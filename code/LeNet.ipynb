{
 "cells": [
  {
   "cell_type": "code",
   "execution_count": 8,
   "metadata": {},
   "outputs": [],
   "source": [
    "import torch\n",
    "from torch import nn\n",
    "from d2l import torch as d2l\n",
    "\n",
    "class Reshape(torch.nn.Module):\n",
    "    def forward(self, X):\n",
    "        return X.view(-1, 1, 28, 28)\n",
    "\n",
    "net = torch.nn.Sequential(\n",
    "    Reshape(),\n",
    "    nn.Conv2d(1,6,kernel_size=5,padding=2),nn.Sigmoid(),\n",
    "    nn.AvgPool2d(kernel_size=2,stride=2),\n",
    "    nn.Conv2d(in_channels=6,out_channels=16,kernel_size=5),nn.Sigmoid(),\n",
    "    nn.AvgPool2d(kernel_size=2,stride=2),nn.Flatten(),\n",
    "    nn.Linear(16* 5 * 5, 120),nn.Sigmoid(),\n",
    "    nn.Linear(120,84),nn.Sigmoid(),\n",
    "    nn.Linear(84,10)\n",
    ")"
   ]
  },
  {
   "cell_type": "code",
   "execution_count": 9,
   "metadata": {},
   "outputs": [
    {
     "name": "stdout",
     "output_type": "stream",
     "text": [
      "Reshape output shape:   torch.Size([1, 1, 28, 28])\n",
      "Conv2d output shape:   torch.Size([1, 6, 28, 28])\n",
      "Sigmoid output shape:   torch.Size([1, 6, 28, 28])\n",
      "AvgPool2d output shape:   torch.Size([1, 6, 14, 14])\n",
      "Conv2d output shape:   torch.Size([1, 16, 10, 10])\n",
      "Sigmoid output shape:   torch.Size([1, 16, 10, 10])\n",
      "AvgPool2d output shape:   torch.Size([1, 16, 5, 5])\n",
      "Flatten output shape:   torch.Size([1, 400])\n",
      "Linear output shape:   torch.Size([1, 120])\n",
      "Sigmoid output shape:   torch.Size([1, 120])\n",
      "Linear output shape:   torch.Size([1, 84])\n",
      "Sigmoid output shape:   torch.Size([1, 84])\n",
      "Linear output shape:   torch.Size([1, 10])\n"
     ]
    }
   ],
   "source": [
    "X = torch.rand(size=(1, 1, 28, 28),dtype=torch.float32)\n",
    "for layer in net:\n",
    "    X = layer(X)\n",
    "    print(layer.__class__.__name__,'output shape:  ', X.shape)"
   ]
  },
  {
   "cell_type": "code",
   "execution_count": null,
   "metadata": {},
   "outputs": [],
   "source": []
  }
 ],
 "metadata": {
  "kernelspec": {
   "display_name": "d2l",
   "language": "python",
   "name": "python3"
  },
  "language_info": {
   "codemirror_mode": {
    "name": "ipython",
    "version": 3
   },
   "file_extension": ".py",
   "mimetype": "text/x-python",
   "name": "python",
   "nbconvert_exporter": "python",
   "pygments_lexer": "ipython3",
   "version": "3.9.18"
  }
 },
 "nbformat": 4,
 "nbformat_minor": 2
}
